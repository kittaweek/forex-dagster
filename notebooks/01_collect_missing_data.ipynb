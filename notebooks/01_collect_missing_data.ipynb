{
 "cells": [
  {
   "cell_type": "markdown",
   "id": "c0ebd0fc-43ff-4508-a74a-2eaf01bd2fcd",
   "metadata": {},
   "source": [
    "### Set Parameter"
   ]
  },
  {
   "cell_type": "code",
   "execution_count": 1,
   "id": "def91b8a-6085-4ffa-a23d-326c56331611",
   "metadata": {},
   "outputs": [],
   "source": [
    "project_id = \"forex-ai-413616\"\n",
    "email = \"forex-ai-bucket-admin@forex-ai-413616.iam.gserviceaccount.com\"\n",
    "credentials_key = \"credentials-admin.p12\""
   ]
  },
  {
   "cell_type": "markdown",
   "id": "93cfcac2-46ae-4550-b81c-ad26135d2858",
   "metadata": {},
   "source": [
    "### Startup"
   ]
  },
  {
   "cell_type": "code",
   "execution_count": 2,
   "id": "b7c606e5-0ee9-4215-9032-91d4a8eafb09",
   "metadata": {},
   "outputs": [
    {
     "data": {
      "text/html": [
       "\n",
       "                <script type=\"application/javascript\" id=\"jupyter_black\">\n",
       "                (function() {\n",
       "                    if (window.IPython === undefined) {\n",
       "                        return\n",
       "                    }\n",
       "                    var msg = \"WARNING: it looks like you might have loaded \" +\n",
       "                        \"jupyter_black in a non-lab notebook with \" +\n",
       "                        \"`is_lab=True`. Please double check, and if \" +\n",
       "                        \"loading with `%load_ext` please review the README!\"\n",
       "                    console.log(msg)\n",
       "                    alert(msg)\n",
       "                })()\n",
       "                </script>\n",
       "                "
      ],
      "text/plain": [
       "<IPython.core.display.HTML object>"
      ]
     },
     "metadata": {},
     "output_type": "display_data"
    },
    {
     "name": "stderr",
     "output_type": "stream",
     "text": [
      "24/03/16 00:48:35 WARN Utils: Your hostname, Kittawees-MacBook-Air.local resolves to a loopback address: 127.0.0.1; using 192.168.1.23 instead (on interface en0)\n",
      "24/03/16 00:48:35 WARN Utils: Set SPARK_LOCAL_IP if you need to bind to another address\n",
      "24/03/16 00:48:35 WARN NativeCodeLoader: Unable to load native-hadoop library for your platform... using builtin-java classes where applicable\n",
      "Setting default log level to \"WARN\".\n",
      "To adjust logging level use sc.setLogLevel(newLevel). For SparkR, use setLogLevel(newLevel).\n"
     ]
    }
   ],
   "source": [
    "%load_ext jupyter_black\n",
    "%load_ext autoreload\n",
    "%autoreload 2\n",
    "\n",
    "import os\n",
    "import sys\n",
    "\n",
    "sys.path.insert(0, os.path.abspath(\"../\"))\n",
    "from pyspark.sql import Window\n",
    "from pyspark.sql import functions as F\n",
    "from pyspark.sql.functions import col\n",
    "\n",
    "from pyspark.sql.types import (\n",
    "    StructType,\n",
    "    StructField,\n",
    "    StringType,\n",
    "    FloatType,\n",
    "    TimestampType,\n",
    "    DoubleType,\n",
    "    LongType,\n",
    ")\n",
    "from utils.pyspark_gcs import get_spark_gcs_session\n",
    "\n",
    "\n",
    "spark = get_spark_gcs_session(\n",
    "    project=project_id, email=email, service_account_keyfile_path=credentials_key\n",
    ")"
   ]
  },
  {
   "cell_type": "markdown",
   "id": "a60bf231-37b8-4633-891b-fd3e66fda99e",
   "metadata": {},
   "source": [
    "## Collect & Prep Data"
   ]
  },
  {
   "cell_type": "code",
   "execution_count": 3,
   "id": "7f5927bb-ad90-4cc5-a91a-0995321d574f",
   "metadata": {},
   "outputs": [],
   "source": [
    "custom_schema = StructType(\n",
    "    [\n",
    "        StructField(\"symbol\", StringType(), False),\n",
    "        StructField(\"datetime\", TimestampType(), False),\n",
    "    ]\n",
    ")"
   ]
  },
  {
   "cell_type": "markdown",
   "id": "1d7e6e31-6ba9-48e6-b964-76f1fbd7f465",
   "metadata": {},
   "source": [
    "### Get Data"
   ]
  },
  {
   "cell_type": "code",
   "execution_count": 4,
   "id": "75203274-021a-4e99-9c8c-7bbfd00e9981",
   "metadata": {},
   "outputs": [
    {
     "name": "stderr",
     "output_type": "stream",
     "text": [
      "                                                                                \r"
     ]
    },
    {
     "name": "stdout",
     "output_type": "stream",
     "text": [
      "1431603\n",
      "root\n",
      " |-- symbol: string (nullable = true)\n",
      " |-- datetime: timestamp (nullable = true)\n",
      "\n",
      "None\n"
     ]
    },
    {
     "name": "stderr",
     "output_type": "stream",
     "text": [
      "                                                                                \r"
     ]
    },
    {
     "name": "stdout",
     "output_type": "stream",
     "text": [
      "+-------+-------------------+\n",
      "| symbol|           datetime|\n",
      "+-------+-------------------+\n",
      "|EUR/USD|2020-04-07 06:54:00|\n",
      "|EUR/USD|2020-04-07 06:55:00|\n",
      "|EUR/USD|2020-04-07 06:56:00|\n",
      "|EUR/USD|2020-04-07 06:57:00|\n",
      "|EUR/USD|2020-04-07 06:58:00|\n",
      "|EUR/USD|2020-04-07 06:59:00|\n",
      "|EUR/USD|2020-04-07 07:00:00|\n",
      "|EUR/USD|2020-04-07 07:01:00|\n",
      "|EUR/USD|2020-04-07 07:02:00|\n",
      "|EUR/USD|2020-04-07 07:03:00|\n",
      "|EUR/USD|2020-04-07 07:04:00|\n",
      "|EUR/USD|2020-04-07 07:05:00|\n",
      "|EUR/USD|2020-04-07 07:06:00|\n",
      "|EUR/USD|2020-04-07 07:07:00|\n",
      "|EUR/USD|2020-04-07 07:08:00|\n",
      "|EUR/USD|2020-04-07 07:09:00|\n",
      "|EUR/USD|2020-04-07 07:10:00|\n",
      "|EUR/USD|2020-04-07 07:11:00|\n",
      "|EUR/USD|2020-04-07 07:12:00|\n",
      "|EUR/USD|2020-04-07 07:13:00|\n",
      "+-------+-------------------+\n",
      "only showing top 20 rows\n",
      "\n",
      "None\n"
     ]
    }
   ],
   "source": [
    "df = spark.read.json(\"gs://forex-ai/raws/time_series_eur_usd\", schema=custom_schema)\n",
    "df = df.select(\"symbol\", \"datetime\").distinct().sort(\"datetime\")\n",
    "print(df.count())\n",
    "print(df.printSchema())\n",
    "print(df.show())"
   ]
  },
  {
   "cell_type": "code",
   "execution_count": 5,
   "id": "f1d3a1ff-ea92-4714-92c8-58e845ac3b98",
   "metadata": {},
   "outputs": [],
   "source": [
    "w = Window.partitionBy(\"symbol\").orderBy(\"datetime\")\n",
    "next_date = F.lead(col(\"datetime\"), 1).over(w)\n",
    "\n",
    "# datediff\n",
    "df_date_diff = (\n",
    "    df.drop(col(\"open\"), col(\"close\"), col(\"high\"), col(\"low\"))\n",
    "    .sort(\"datetime\")\n",
    "    .withColumn(\"next_date\", next_date)\n",
    "    .withColumn(\"next_date_timestamp\", F.unix_timestamp(next_date))\n",
    "    .withColumn(\"datetime_timestamp\", F.unix_timestamp(col(\"datetime\")))\n",
    "    .withColumn(\n",
    "        \"date_diff\",\n",
    "        F.abs(col(\"next_date_timestamp\") - col(\"datetime_timestamp\")),\n",
    "    )\n",
    "    .drop(\"next_date_timestamp\", \"datetime_timestamp\")\n",
    ")"
   ]
  },
  {
   "cell_type": "markdown",
   "id": "e398f052-2f34-4c4a-88c8-23414f8fe767",
   "metadata": {},
   "source": [
    "### Explore"
   ]
  },
  {
   "cell_type": "code",
   "execution_count": 6,
   "id": "779bf4f3-047a-4b9f-baf1-385c89f308f0",
   "metadata": {},
   "outputs": [
    {
     "name": "stdout",
     "output_type": "stream",
     "text": [
      "------------------------------\n"
     ]
    },
    {
     "name": "stderr",
     "output_type": "stream",
     "text": [
      "                                                                                \r"
     ]
    },
    {
     "name": "stdout",
     "output_type": "stream",
     "text": [
      "+-------+-------------------+-------------------+---------+\n",
      "| symbol|           datetime|          next_date|date_diff|\n",
      "+-------+-------------------+-------------------+---------+\n",
      "|EUR/USD|2024-02-14 22:01:00|2024-02-14 22:04:00|      180|\n",
      "|EUR/USD|2024-02-13 23:42:00|2024-02-13 23:44:00|      120|\n",
      "|EUR/USD|2024-02-13 04:21:00|2024-02-13 04:23:00|      120|\n",
      "|EUR/USD|2024-02-12 23:06:00|2024-02-12 23:09:00|      180|\n",
      "|EUR/USD|2024-02-12 22:57:00|2024-02-12 23:00:00|      180|\n",
      "|EUR/USD|2024-02-12 22:03:00|2024-02-12 22:05:00|      120|\n",
      "|EUR/USD|2024-02-11 22:27:00|2024-02-11 22:30:00|      180|\n",
      "|EUR/USD|2024-02-11 22:18:00|2024-02-11 22:20:00|      120|\n",
      "|EUR/USD|2024-02-11 22:07:00|2024-02-11 22:09:00|      120|\n",
      "|EUR/USD|2024-02-11 22:01:00|2024-02-11 22:04:00|      180|\n",
      "|EUR/USD|2024-02-09 05:30:00|2024-02-09 05:32:00|      120|\n",
      "|EUR/USD|2024-02-09 04:16:00|2024-02-09 04:18:00|      120|\n",
      "|EUR/USD|2024-02-08 23:08:00|2024-02-08 23:10:00|      120|\n",
      "|EUR/USD|2024-02-08 22:19:00|2024-02-08 22:22:00|      180|\n",
      "|EUR/USD|2024-02-08 22:02:00|2024-02-08 22:04:00|      120|\n",
      "|EUR/USD|2024-02-08 03:02:00|2024-02-08 03:04:00|      120|\n",
      "|EUR/USD|2024-02-07 23:11:00|2024-02-07 23:13:00|      120|\n",
      "|EUR/USD|2024-02-07 22:02:00|2024-02-07 22:04:00|      120|\n",
      "|EUR/USD|2024-02-06 23:31:00|2024-02-06 23:33:00|      120|\n",
      "|EUR/USD|2024-02-06 22:23:00|2024-02-06 22:25:00|      120|\n",
      "+-------+-------------------+-------------------+---------+\n",
      "only showing top 20 rows\n",
      "\n",
      "None\n"
     ]
    },
    {
     "name": "stderr",
     "output_type": "stream",
     "text": [
      "                                                                                \r"
     ]
    },
    {
     "name": "stdout",
     "output_type": "stream",
     "text": [
      "5573\n",
      "------------------------------\n"
     ]
    },
    {
     "name": "stderr",
     "output_type": "stream",
     "text": [
      "                                                                                \r"
     ]
    },
    {
     "name": "stdout",
     "output_type": "stream",
     "text": [
      "+-------+-------------------+-------------------+---------+\n",
      "| symbol|           datetime|          next_date|date_diff|\n",
      "+-------+-------------------+-------------------+---------+\n",
      "|EUR/USD|2024-02-09 21:59:00|2024-02-11 22:00:00|   172860|\n",
      "|EUR/USD|2024-02-04 20:17:00|2024-02-04 22:00:00|     6180|\n",
      "|EUR/USD|2024-02-04 20:00:00|2024-02-04 20:17:00|     1020|\n",
      "|EUR/USD|2024-02-02 19:59:00|2024-02-04 20:00:00|   172860|\n",
      "|EUR/USD|2024-01-28 21:26:00|2024-01-28 21:55:00|     1740|\n",
      "|EUR/USD|2024-01-28 20:33:00|2024-01-28 21:11:00|     2280|\n",
      "|EUR/USD|2024-01-26 19:59:00|2024-01-28 20:33:00|   174840|\n",
      "|EUR/USD|2024-01-19 19:59:00|2024-01-21 21:49:00|   179400|\n",
      "|EUR/USD|2024-01-12 19:59:00|2024-01-14 22:00:00|   180060|\n",
      "|EUR/USD|2024-01-05 19:59:00|2024-01-07 22:00:00|   180060|\n",
      "|EUR/USD|2024-01-01 20:02:00|2024-01-01 20:28:00|     1560|\n",
      "|EUR/USD|2024-01-01 17:37:00|2024-01-01 18:10:00|     1980|\n",
      "|EUR/USD|2023-12-29 19:59:00|2024-01-01 17:31:00|   250320|\n",
      "|EUR/USD|2023-12-25 18:48:00|2023-12-25 19:07:00|     1140|\n",
      "|EUR/USD|2023-12-22 19:59:00|2023-12-25 18:19:00|   253200|\n",
      "|EUR/USD|2023-12-15 19:59:00|2023-12-17 21:38:00|   178740|\n",
      "|EUR/USD|2023-12-10 21:22:00|2023-12-10 21:59:00|     2220|\n",
      "|EUR/USD|2023-12-08 19:59:00|2023-12-10 21:18:00|   177540|\n",
      "|EUR/USD|2023-12-03 21:30:00|2023-12-03 22:00:00|     1800|\n",
      "|EUR/USD|2023-12-03 20:04:00|2023-12-03 21:30:00|     5160|\n",
      "+-------+-------------------+-------------------+---------+\n",
      "only showing top 20 rows\n",
      "\n",
      "None\n"
     ]
    },
    {
     "name": "stderr",
     "output_type": "stream",
     "text": [
      "                                                                                \r"
     ]
    },
    {
     "name": "stdout",
     "output_type": "stream",
     "text": [
      "404\n"
     ]
    }
   ],
   "source": [
    "df_date_diff = df_date_diff.sort(col(\"datetime\").desc())\n",
    "print(\"------------------------------\")\n",
    "print(\n",
    "    (df_date_diff.filter(col(\"date_diff\") > 60).filter(col(\"date_diff\") < 1000).show())\n",
    ")\n",
    "print(\n",
    "    (df_date_diff.filter(col(\"date_diff\") > 60).filter(col(\"date_diff\") < 1000).count())\n",
    ")\n",
    "print(\"------------------------------\")\n",
    "print(df_date_diff.filter(col(\"date_diff\") >= 1000).show())\n",
    "print(df_date_diff.filter(col(\"date_diff\") >= 1000).count())"
   ]
  },
  {
   "cell_type": "code",
   "execution_count": 7,
   "id": "cd341e48-4b24-4ee8-8f03-affb714dcd1d",
   "metadata": {},
   "outputs": [
    {
     "name": "stderr",
     "output_type": "stream",
     "text": [
      "                                                                                \r"
     ]
    },
    {
     "name": "stdout",
     "output_type": "stream",
     "text": [
      "+------+--------+---------+---------+\n",
      "|symbol|datetime|next_date|date_diff|\n",
      "+------+--------+---------+---------+\n",
      "+------+--------+---------+---------+\n",
      "\n"
     ]
    }
   ],
   "source": [
    "(df_date_diff.filter(col(\"date_diff\") < 60).show())"
   ]
  },
  {
   "cell_type": "code",
   "execution_count": null,
   "id": "f548b070-1616-462c-a350-ad2c3da48956",
   "metadata": {},
   "outputs": [],
   "source": []
  }
 ],
 "metadata": {
  "kernelspec": {
   "display_name": "forex-dagster",
   "language": "python",
   "name": "forex-dagster"
  },
  "language_info": {
   "codemirror_mode": {
    "name": "ipython",
    "version": 3
   },
   "file_extension": ".py",
   "mimetype": "text/x-python",
   "name": "python",
   "nbconvert_exporter": "python",
   "pygments_lexer": "ipython3",
   "version": "3.12.2"
  }
 },
 "nbformat": 4,
 "nbformat_minor": 5
}
